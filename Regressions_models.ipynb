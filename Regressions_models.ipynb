{
 "cells": [
  {
   "cell_type": "markdown",
   "metadata": {},
   "source": [
    "### **REGRESSION MODELS**\n",
    "by J. Daniel Velez\n",
    "\n",
    "Here different regression models are tested"
   ]
  },
  {
   "cell_type": "code",
   "execution_count": null,
   "metadata": {},
   "outputs": [],
   "source": [
    "from f_filter_process import get_file, call_file, export_dataframe\n",
    "from regression_models import*\n",
    "import pandas as pd\n",
    "import geopandas as gpd"
   ]
  },
  {
   "cell_type": "code",
   "execution_count": null,
   "metadata": {},
   "outputs": [],
   "source": [
    "# Function to import files\n",
    "River_dict = call_file() "
   ]
  },
  {
   "cell_type": "markdown",
   "metadata": {},
   "source": [
    "##### Linear Regression\n",
    "Args for the 'l_regression' function:\n",
    " * river (dict): Dictionary containing node data with 'width' and 'wse' keys.\n",
    " * min_spearman (float or None): Minimum Spearman correlation value to include a node in the plot.\n",
    "                                 if None, no filtering is applied (default: None).\n",
    " * min_obs (int): Minimum number of observations required to display a scatter plot for a node (default: 10).\n",
    " * show_p_value (bool): If True, displays the p-value on each scatter plot (default: True)."
   ]
  },
  {
   "cell_type": "code",
   "execution_count": null,
   "metadata": {},
   "outputs": [],
   "source": [
    "################## 1. Linear Regression ##################\n",
    "linear_reg = l_regression(River_dict,min_spearman=0.4, min_obs=10, show_p_value=True, min_p_value=0.05)"
   ]
  },
  {
   "cell_type": "code",
   "execution_count": null,
   "metadata": {},
   "outputs": [],
   "source": [
    "linear_reg.rename(columns={'Node': 'node_id','Spearman': 'spearman_corr'}, inplace=True)\n",
    "linear_reg"
   ]
  },
  {
   "cell_type": "code",
   "execution_count": null,
   "metadata": {},
   "outputs": [],
   "source": [
    "export_dataframe(linear_reg,is_geodataframe=False)"
   ]
  },
  {
   "cell_type": "code",
   "execution_count": null,
   "metadata": {},
   "outputs": [],
   "source": [
    "river_gpkg = call_file()"
   ]
  },
  {
   "cell_type": "code",
   "execution_count": null,
   "metadata": {},
   "outputs": [],
   "source": [
    "## Define the common column used for merging, e.g., \"id\" (replace \"id\" with your actual column name)\n",
    "common_column = \"node_id\"\n",
    "#Merge the geodataframe with the dataframe\n",
    "l_regression = river_gpkg.merge(linear_reg, on=common_column).T.drop_duplicates().T # Drop duplicate columns"
   ]
  },
  {
   "cell_type": "code",
   "execution_count": null,
   "metadata": {},
   "outputs": [],
   "source": [
    "#l_regression['geometry'] = gpd.GeoSeries.from_wkt(l_regression['geometry'])\n",
    "l_regression = gpd.GeoDataFrame(l_regression, geometry='geometry', crs=\"EPSG:4326\")\n",
    "# Ensure Slope and Intercept are real numbers and round them to 3 decimals\n",
    "l_regression['Slope'] = pd.to_numeric(l_regression['Slope'], errors='coerce').round(3).map(lambda x: f\"{x:.3f}\")\n",
    "l_regression['Intercept'] = pd.to_numeric(l_regression['Intercept'], errors='coerce').round(3).map(lambda x: f\"{x:.3f}\")"
   ]
  },
  {
   "cell_type": "code",
   "execution_count": null,
   "metadata": {},
   "outputs": [],
   "source": [
    "export_dataframe(l_regression,is_geodataframe=True)"
   ]
  },
  {
   "cell_type": "code",
   "execution_count": null,
   "metadata": {},
   "outputs": [],
   "source": [
    "l_regression"
   ]
  },
  {
   "cell_type": "markdown",
   "metadata": {},
   "source": [
    "### Huber regression:\n",
    "\n",
    "Given that some of the nodes the residuals of the observations are not normally distribute, a robust model should be use. Here the epsilon parameter is fixed to 1.345 because is the canonical default in robust statistics for the Huber loss, and it's widely accepted as the best trade-off between:\n",
    "* Efficiency under normal errors (≈ 95% of OLS efficiency), and\n",
    "* Robustness to outliers (by limiting the influence of large residuals)."
   ]
  },
  {
   "cell_type": "code",
   "execution_count": null,
   "metadata": {},
   "outputs": [],
   "source": [
    "################## 2. Piecewise and Simple Huber Linear Regression ##################\n",
    "dfe = fixed_huber_piecewise_aic(River_dict)"
   ]
  },
  {
   "cell_type": "code",
   "execution_count": null,
   "metadata": {},
   "outputs": [],
   "source": [
    "export_dataframe(dfe,is_geodataframe=False)"
   ]
  },
  {
   "cell_type": "code",
   "execution_count": null,
   "metadata": {},
   "outputs": [],
   "source": [
    "river_gpkg = call_file()"
   ]
  },
  {
   "cell_type": "code",
   "execution_count": null,
   "metadata": {},
   "outputs": [],
   "source": [
    "## Define the common column used for merging, e.g., \"id\" (replace \"id\" with your actual column name)\n",
    "common_column = \"node_id\"\n",
    "#Merge the geodataframe with the dataframe\n",
    "Huber_regression = river_gpkg.merge(dfe, on=common_column) # Drop duplicate columns"
   ]
  },
  {
   "cell_type": "code",
   "execution_count": null,
   "metadata": {},
   "outputs": [],
   "source": [
    "export_dataframe(Huber_regression,is_geodataframe=True)"
   ]
  },
  {
   "cell_type": "markdown",
   "metadata": {},
   "source": [
    "Plot by node"
   ]
  },
  {
   "cell_type": "code",
   "execution_count": null,
   "metadata": {},
   "outputs": [],
   "source": [
    "#Linear regression for a single node\n",
    "l_regression_node(River_dict, node_id='61204500050501', min_spearman=None, min_obs=0, show_p_value=True, min_p_value=0.05)"
   ]
  },
  {
   "cell_type": "code",
   "execution_count": null,
   "metadata": {},
   "outputs": [],
   "source": [
    "#Piecewise and simple Huber regression for a single node (based on AIC)\n",
    "plot_node_reg_2segs_fixed(Huber_regression, node_id='81247100020271')"
   ]
  }
 ],
 "metadata": {
  "kernelspec": {
   "display_name": "hypsometry",
   "language": "python",
   "name": "python3"
  },
  "language_info": {
   "codemirror_mode": {
    "name": "ipython",
    "version": 3
   },
   "file_extension": ".py",
   "mimetype": "text/x-python",
   "name": "python",
   "nbconvert_exporter": "python",
   "pygments_lexer": "ipython3",
   "version": "3.12.2"
  }
 },
 "nbformat": 4,
 "nbformat_minor": 2
}
