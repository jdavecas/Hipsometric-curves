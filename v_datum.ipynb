{
 "cells": [
  {
   "cell_type": "code",
   "execution_count": 13,
   "metadata": {},
   "outputs": [],
   "source": [
    "import pandas as pd\n",
    "from pyproj import CRS, Transformer\n",
    "import os"
   ]
  },
  {
   "cell_type": "code",
   "execution_count": null,
   "metadata": {},
   "outputs": [],
   "source": [
    "os.getcwd()"
   ]
  },
  {
   "cell_type": "code",
   "execution_count": 26,
   "metadata": {},
   "outputs": [],
   "source": [
    "# Load the input CSV file\n",
    "input_file = \"ohio1.csv\"  # Change this to your CSV file path\n",
    "output_file = \"ohio_out.csv\"\n",
    "\n",
    "# Read the CSV file\n",
    "df = pd.read_csv(input_file, names=[\"latitude\", \"longitude\", \"height\"])\n",
    "\n",
    "# Define the CRS for NAD27 and NAVD88 (horizontal and vertical datums)\n",
    "crs_nad27 = CRS.from_epsg(4267)  # EPSG:4267 = NAD27 (horizontal)\n",
    "crs_navd88 = CRS.from_epsg(6319)  # EPSG:6319 = NAVD88 (vertical)\n",
    "\n",
    "# Define the target CRS for EGM2008 geoid model (vertical)\n",
    "crs_egm2008 = CRS.from_epsg(3855)  # EPSG:3855 = EGM2008 (vertical)\n",
    "\n",
    "# Initialize the transformer for converting NAD27 (horizontal) to WGS84 (for modern transformations)\n",
    "transformer_horiz = Transformer.from_crs(crs_nad27, CRS.from_epsg(4326), always_xy=True)  # NAD27 to WGS84\n",
    "\n",
    "# Initialize the vertical transformation for NAVD88 to EGM2008\n",
    "transformer_vert = Transformer.from_crs(crs_navd88, crs_egm2008, always_xy=True)  # NAVD88 to EGM2008\n",
    "\n",
    "# Function to transform height with horizontal and vertical adjustments\n",
    "def transform_coordinates(lat, lon, height):\n",
    "    if pd.isna(lat) or pd.isna(lon) or pd.isna(height):\n",
    "        return None  # Skip if any value is NaN\n",
    "    try:\n",
    "        # First, transform the horizontal coordinates from NAD27 to WGS84 (EPSG:4326)\n",
    "        lon_wgs84, lat_wgs84 = transformer_horiz.transform(lon, lat)\n",
    "        \n",
    "        # Then, transform the height from NAVD88 to EGM2008 based on the corrected latitude and longitude\n",
    "        height_egm2008 = transformer_vert.transform(lon_wgs84, lat_wgs84, height)\n",
    "        return height_egm2008\n",
    "    except Exception as e:\n",
    "        return None  # Return None if the transformation fails\n",
    "\n",
    "# Apply the transformation row by row\n",
    "height_egm2008 = []\n",
    "for _, row in df.iterrows():\n",
    "    transformed_height = transform_coordinates(row[\"latitude\"], row[\"longitude\"], row[\"height\"])\n",
    "    height_egm2008.append(transformed_height)\n",
    "\n",
    "# Add the new column to the DataFrame\n",
    "df[\"height_egm2008\"] = height_egm2008\n",
    "\n"
   ]
  },
  {
   "cell_type": "code",
   "execution_count": 27,
   "metadata": {},
   "outputs": [
    {
     "name": "stdout",
     "output_type": "stream",
     "text": [
      "Transformation complete. Output saved to ohio_out.csv\n"
     ]
    }
   ],
   "source": [
    "# Save the result to a new CSV file\n",
    "df.to_csv(output_file, index=False)\n",
    "print(f\"Transformation complete. Output saved to {output_file}\")"
   ]
  }
 ],
 "metadata": {
  "kernelspec": {
   "display_name": "hypsometry",
   "language": "python",
   "name": "python3"
  },
  "language_info": {
   "codemirror_mode": {
    "name": "ipython",
    "version": 3
   },
   "file_extension": ".py",
   "mimetype": "text/x-python",
   "name": "python",
   "nbconvert_exporter": "python",
   "pygments_lexer": "ipython3",
   "version": "3.12.2"
  }
 },
 "nbformat": 4,
 "nbformat_minor": 2
}
