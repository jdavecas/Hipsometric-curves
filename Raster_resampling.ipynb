{
 "cells": [
  {
   "cell_type": "code",
   "execution_count": 18,
   "id": "5a55b0ac",
   "metadata": {},
   "outputs": [],
   "source": [
    "import math\n",
    "import rasterio\n",
    "from rasterio.enums import Resampling\n",
    "from rasterio.warp import calculate_default_transform, reproject\n",
    "from affine import Affine"
   ]
  },
  {
   "cell_type": "code",
   "execution_count": 19,
   "id": "152e38a4",
   "metadata": {},
   "outputs": [],
   "source": [
    "def _utm_epsg_for_lonlat(lon, lat):\n",
    "    zone = int(math.floor((lon + 180) / 6) + 1)\n",
    "    north = lat >= 0\n",
    "    return f\"EPSG:{32600 + zone if north else 32700 + zone}\"\n",
    "\n",
    "def resampling(input_raster, output_raster, scale_factor):\n",
    "    \"\"\"\n",
    "    Resample to target meter resolution (scale_factor, e.g., 10 -> 10 m).\n",
    "    If the source CRS is geographic (degrees), reproject to auto-UTM first,\n",
    "    then resample to the requested meter resolution.\n",
    "    \"\"\"\n",
    "\n",
    "    with rasterio.open(input_raster) as src:\n",
    "        target_res_m = float(scale_factor)\n",
    "\n",
    "        # --- Decide destination CRS ---\n",
    "        src_crs = src.crs\n",
    "        if src_crs is None:\n",
    "            raise ValueError(\"Input raster has no CRS; cannot infer meters vs degrees.\")\n",
    "\n",
    "        # Compute raster centroid in its native CRS\n",
    "        cx = (src.bounds.left + src.bounds.right) / 2.0\n",
    "        cy = (src.bounds.top + src.bounds.bottom) / 2.0\n",
    "\n",
    "        # Heuristic: if CRS is geographic (degrees), pick auto-UTM from lon/lat\n",
    "        if src_crs.is_geographic:\n",
    "            # centroid is already lon/lat in a geographic CRS\n",
    "            dst_crs = _utm_epsg_for_lonlat(cx, cy)\n",
    "        else:\n",
    "            # Projected CRS; assume linear units are meters (common for UTM/state-plane meters)\n",
    "            dst_crs = src_crs\n",
    "\n",
    "        # --- Compute target grid (transform, width, height) at target meter resolution ---\n",
    "        # If src is in degrees and dst is UTM, this step handles reprojection + resampling grid.\n",
    "        # If src is already in meters, this simply changes pixel size to target_res_m.\n",
    "        dst_transform, dst_width, dst_height = calculate_default_transform(\n",
    "            src.crs, dst_crs, src.width, src.height, *src.bounds,\n",
    "            resolution=(target_res_m, target_res_m)\n",
    "        )\n",
    "\n",
    "        # --- Build output profile ---\n",
    "        profile = src.profile.copy()\n",
    "        profile.update({\n",
    "            \"crs\": dst_crs,\n",
    "            \"transform\": dst_transform,\n",
    "            \"width\": max(1, dst_width),\n",
    "            \"height\": max(1, dst_height),\n",
    "            \"compress\": \"lzw\",\n",
    "            \"tiled\": True\n",
    "        })\n",
    "        if src.nodata is not None:\n",
    "            profile.update({\"nodata\": src.nodata})\n",
    "\n",
    "        # --- Reproject + resample into the destination grid ---\n",
    "        with rasterio.open(output_raster, 'w', **profile) as dst:\n",
    "            for b in range(1, src.count + 1):\n",
    "                reproject(\n",
    "                    source=rasterio.band(src, b),\n",
    "                    destination=rasterio.band(dst, b),\n",
    "                    src_transform=src.transform,\n",
    "                    src_crs=src.crs,\n",
    "                    dst_transform=dst_transform,\n",
    "                    dst_crs=dst_crs,\n",
    "                    resampling=Resampling.average,  # keep your choice; use 'nearest' for classes\n",
    "                    src_nodata=src.nodata,\n",
    "                    dst_nodata=src.nodata\n",
    "                )"
   ]
  },
  {
   "cell_type": "code",
   "execution_count": 20,
   "id": "8b5d4156",
   "metadata": {},
   "outputs": [],
   "source": [
    "inpath = \"/Volumes/Science_SSD/Dissertation/0_data/External/Bathymetries/Europa/Po/Po_bathymetry_wsg84.tif\"\n",
    "outpath = \"/Volumes/Science_SSD/Dissertation/0_data/External/Bathymetries/Resampled_10/Po_resampled_10m.tif\""
   ]
  },
  {
   "cell_type": "code",
   "execution_count": 21,
   "id": "dd13f5c7",
   "metadata": {},
   "outputs": [],
   "source": [
    "resampling(inpath, outpath, 10)"
   ]
  }
 ],
 "metadata": {
  "kernelspec": {
   "display_name": "hypsometry",
   "language": "python",
   "name": "python3"
  },
  "language_info": {
   "codemirror_mode": {
    "name": "ipython",
    "version": 3
   },
   "file_extension": ".py",
   "mimetype": "text/x-python",
   "name": "python",
   "nbconvert_exporter": "python",
   "pygments_lexer": "ipython3",
   "version": "3.12.3"
  }
 },
 "nbformat": 4,
 "nbformat_minor": 5
}
