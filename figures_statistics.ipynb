{
 "cells": [
  {
   "cell_type": "markdown",
   "metadata": {},
   "source": [
    "### **FIGURES AND STATISTICS**\n",
    "by J. Daniel Velez\n",
    "\n",
    "The code is intended to plot some figures (stacked bars, CDF, scatterplots) and to calculate Spearmans and Pearson correlation coefficients"
   ]
  },
  {
   "cell_type": "code",
   "execution_count": 1,
   "metadata": {},
   "outputs": [],
   "source": [
    "from f_filter_process import get_file, call_file, export_dataframe\n",
    "import matplotlib.pyplot as plt\n",
    "from f_stats import*\n",
    "import pandas as pd\n",
    "import os"
   ]
  },
  {
   "cell_type": "code",
   "execution_count": null,
   "metadata": {},
   "outputs": [],
   "source": [
    "# Function to import files\n",
    "rivers_budget = call_file() "
   ]
  },
  {
   "cell_type": "code",
   "execution_count": null,
   "metadata": {},
   "outputs": [],
   "source": [
    "rivers_budget"
   ]
  },
  {
   "cell_type": "markdown",
   "metadata": {},
   "source": [
    "### 1. This section shows the reaches and nodes remaining and deleted after the filtering process. CSV file must be used"
   ]
  },
  {
   "cell_type": "code",
   "execution_count": null,
   "metadata": {},
   "outputs": [],
   "source": [
    "#csv files\n",
    "river_budgetlis = rivers_budget.reset_index()\n",
    "selected_data = river_budgetlis[['RIVER', 'REMAINING', 'DELETED']]\n",
    "selected_data"
   ]
  },
  {
   "cell_type": "code",
   "execution_count": null,
   "metadata": {},
   "outputs": [],
   "source": [
    "# Subseting rivers at reach level\n",
    "subset_reaches = selected_data[selected_data['RIVER'].str.contains('Reaches')]\n",
    "print(subset_reaches)"
   ]
  },
  {
   "cell_type": "code",
   "execution_count": null,
   "metadata": {},
   "outputs": [],
   "source": [
    "# Stacked bar plot to get the accountability of the reaches and nodes left after the filtered process\n",
    "selected_data.plot(x='RIVER', y=['REMAINING', 'DELETED'], kind='bar', stacked=True,  figsize=(10, 5))\n",
    "plt.title('Rivers nodes and reaches final balance')\n",
    "plt.xlabel('River reaches and nodes')\n",
    "plt.xticks(rotation=45, ha='right')\n",
    "plt.ylabel('Number of reaches and nodes')\n",
    "plt.show()"
   ]
  },
  {
   "cell_type": "markdown",
   "metadata": {},
   "source": [
    "### 2. Correlation coefficients. Json files must be used"
   ]
  },
  {
   "cell_type": "code",
   "execution_count": null,
   "metadata": {},
   "outputs": [],
   "source": [
    "# Function to calculate Spearman coefficient, p-values, and number the pairs used to calculate Spearman. Load the filtered dictionary\n",
    "rho_df= S_correlation(rivers_budget)"
   ]
  },
  {
   "cell_type": "code",
   "execution_count": null,
   "metadata": {},
   "outputs": [],
   "source": [
    "rho_df = rho_df.rename(columns = {'index':'node_id'})\n",
    "rho_df"
   ]
  },
  {
   "cell_type": "code",
   "execution_count": null,
   "metadata": {},
   "outputs": [],
   "source": [
    "# Histogram of pairs used to calculate spearmans\n",
    "plt.hist(rho_df['num_pairs'], bins=20, color='skyblue',edgecolor='black')\n",
    "x_ticks = np.arange(int(min(rho_df['num_pairs'])), int(max(rho_df['num_pairs'])) + 1, 1)  # Generate integer ticks\n",
    "plt.xticks(x_ticks)\n",
    "plt.xlabel('Number of pairs (W-wse)')\n",
    "plt.ylabel('Frequency')\n",
    "plt.title('Histogram of the Valid pairs')"
   ]
  },
  {
   "cell_type": "code",
   "execution_count": null,
   "metadata": {},
   "outputs": [],
   "source": [
    "export_dataframe(rho_df,is_geodataframe=False)"
   ]
  },
  {
   "cell_type": "code",
   "execution_count": null,
   "metadata": {},
   "outputs": [],
   "source": [
    "plot_multiple_cdfs(rho_df,'Cauca')"
   ]
  },
  {
   "cell_type": "markdown",
   "metadata": {},
   "source": [
    "### **3.** Spearman's coefficient attached to shapefiles"
   ]
  },
  {
   "cell_type": "code",
   "execution_count": 7,
   "metadata": {},
   "outputs": [],
   "source": [
    "river_shp = call_file()"
   ]
  },
  {
   "cell_type": "code",
   "execution_count": null,
   "metadata": {},
   "outputs": [],
   "source": [
    "river_shp"
   ]
  },
  {
   "cell_type": "code",
   "execution_count": 8,
   "metadata": {},
   "outputs": [],
   "source": [
    "# Function to join a geodataframe (gdf) with a daframe (df) as a new geodataframe. Arguments: gdf, df, reach_id or node_id\n",
    "river_shp_Sp = geojoin(river_shp,rho_df,'node_id')"
   ]
  },
  {
   "cell_type": "code",
   "execution_count": null,
   "metadata": {},
   "outputs": [],
   "source": [
    "export_dataframe(river_shp_Sp,is_geodataframe=True)"
   ]
  },
  {
   "cell_type": "markdown",
   "metadata": {},
   "source": [
    "### **4.** Scattter plots\n",
    "There is a second optional argument to set the minimum Spearman coefficient from which the scatterplots should be plotted."
   ]
  },
  {
   "cell_type": "code",
   "execution_count": null,
   "metadata": {},
   "outputs": [],
   "source": [
    "hypsometric(rivers_budget)"
   ]
  },
  {
   "cell_type": "code",
   "execution_count": 45,
   "metadata": {},
   "outputs": [],
   "source": [
    "river_shape8 = call_file()"
   ]
  },
  {
   "cell_type": "code",
   "execution_count": 46,
   "metadata": {},
   "outputs": [],
   "source": [
    "river_shape4 = call_file()"
   ]
  },
  {
   "cell_type": "code",
   "execution_count": null,
   "metadata": {},
   "outputs": [],
   "source": [
    "# admits up to 3 arguments (Shapefiles)\n",
    "profiles(river_shp)"
   ]
  }
 ],
 "metadata": {
  "kernelspec": {
   "display_name": "hypsometry",
   "language": "python",
   "name": "python3"
  },
  "language_info": {
   "codemirror_mode": {
    "name": "ipython",
    "version": 3
   },
   "file_extension": ".py",
   "mimetype": "text/x-python",
   "name": "python",
   "nbconvert_exporter": "python",
   "pygments_lexer": "ipython3",
   "version": "3.12.5"
  }
 },
 "nbformat": 4,
 "nbformat_minor": 2
}
