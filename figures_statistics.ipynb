{
 "cells": [
  {
   "cell_type": "markdown",
   "metadata": {},
   "source": [
    "### **FIGURES AND STATISTICS**\n",
    "by J. Daniel Velez\n",
    "\n",
    "The code is intended to plot some figures (stacked bars, CDF, scatterplots) and to calculate Spearmans and Pearson correlation coefficients"
   ]
  },
  {
   "cell_type": "code",
   "execution_count": null,
   "metadata": {},
   "outputs": [],
   "source": [
    "from f_filter_process import get_file, call_file, export_dataframe\n",
    "import matplotlib.pyplot as plt\n",
    "from f_stats import*\n",
    "import pandas as pd"
   ]
  },
  {
   "cell_type": "code",
   "execution_count": null,
   "metadata": {},
   "outputs": [],
   "source": [
    "# Function to import files\n",
    "rivers_budget = call_file() "
   ]
  },
  {
   "cell_type": "code",
   "execution_count": null,
   "metadata": {},
   "outputs": [],
   "source": [
    "rivers_budget"
   ]
  },
  {
   "cell_type": "markdown",
   "metadata": {},
   "source": [
    "### 1. This section shows the reaches and nodes remaining and deleted after the filtering process. CSV file must be used"
   ]
  },
  {
   "cell_type": "code",
   "execution_count": null,
   "metadata": {},
   "outputs": [],
   "source": [
    "#csv files\n",
    "river_budgetlis = rivers_budget.reset_index()\n",
    "selected_data = river_budgetlis[['RIVER', 'REMAINING', 'DELETED']]\n",
    "selected_data"
   ]
  },
  {
   "cell_type": "code",
   "execution_count": null,
   "metadata": {},
   "outputs": [],
   "source": [
    "# Subseting rivers at reach level\n",
    "subset_reaches = selected_data[selected_data['RIVER'].str.contains('Reaches')]\n",
    "print(subset_reaches)"
   ]
  },
  {
   "cell_type": "code",
   "execution_count": null,
   "metadata": {},
   "outputs": [],
   "source": [
    "# Stacked bar plot to get the accountability of the reaches and nodes left after the filtered process\n",
    "selected_data.plot(x='RIVER', y=['REMAINING', 'DELETED'], kind='bar', stacked=True,  figsize=(10, 5))\n",
    "plt.title('Rivers nodes final balance')\n",
    "plt.xlabel('River nodes')\n",
    "plt.xticks(rotation=45, ha='right')\n",
    "plt.ylabel('Number of nodes')\n",
    "plt.show()"
   ]
  },
  {
   "cell_type": "markdown",
   "metadata": {},
   "source": [
    "### 2. Correlation coefficients. Json files must be used"
   ]
  },
  {
   "cell_type": "code",
   "execution_count": null,
   "metadata": {},
   "outputs": [],
   "source": [
    "# Function to calculate Spearman coefficient, p-values, and number the pairs used to calculate Spearman. Load the filtered dictionary\n",
    "N_Spearman, rho_df= S_correlation(rivers_budget)"
   ]
  },
  {
   "cell_type": "code",
   "execution_count": null,
   "metadata": {},
   "outputs": [],
   "source": [
    "rho_df = rho_df.rename(columns = {'index':'node_id'})\n",
    "rho_df"
   ]
  },
  {
   "cell_type": "code",
   "execution_count": null,
   "metadata": {},
   "outputs": [],
   "source": [
    "# Histogram of pairs used to calculate spearmans\n",
    "plt.hist(rho_df['num_pairs'], bins=20, color='skyblue',edgecolor='black')\n",
    "x_ticks = np.arange(int(min(rho_df['num_pairs'])), int(max(rho_df['num_pairs'])) + 1, 1)  # Generate integer ticks\n",
    "plt.xticks(x_ticks)\n",
    "plt.xlabel('Number of pairs (W-wse)')\n",
    "plt.ylabel('Frequency')\n",
    "plt.title('Histogram of the Valid pairs')"
   ]
  },
  {
   "cell_type": "code",
   "execution_count": null,
   "metadata": {},
   "outputs": [],
   "source": [
    "export_dataframe(rho_df,is_geodataframe=False)"
   ]
  },
  {
   "cell_type": "markdown",
   "metadata": {},
   "source": [
    "Before plotting CDF, it is worth to know the best trade-off between the number of width-wse pairs per observation and the number of Spearman correlations above 0.4 in each river"
   ]
  },
  {
   "cell_type": "code",
   "execution_count": null,
   "metadata": {},
   "outputs": [],
   "source": [
    "best_tradeoff(N_Spearman, min_pairs=10, max_pairs=20, step=1)"
   ]
  },
  {
   "cell_type": "code",
   "execution_count": null,
   "metadata": {},
   "outputs": [],
   "source": [
    "plot_multiple_cdfs(rho_df,'Tanana')"
   ]
  },
  {
   "cell_type": "markdown",
   "metadata": {},
   "source": [
    "### **3.** Spearman's coefficient attached to shapefiles"
   ]
  },
  {
   "cell_type": "code",
   "execution_count": null,
   "metadata": {},
   "outputs": [],
   "source": [
    "river_shp = call_file()"
   ]
  },
  {
   "cell_type": "code",
   "execution_count": null,
   "metadata": {},
   "outputs": [],
   "source": [
    "river_shp"
   ]
  },
  {
   "cell_type": "code",
   "execution_count": null,
   "metadata": {},
   "outputs": [],
   "source": [
    "# Function to join a geodataframe (gdf) with a daframe (df) as a new geodataframe. Arguments: gdf, df, reach_id or node_id\n",
    "river_shp_Sp = geojoin(river_shp,rho_df,'node_id')"
   ]
  },
  {
   "cell_type": "code",
   "execution_count": null,
   "metadata": {},
   "outputs": [],
   "source": [
    "export_dataframe(river_shp_Sp,is_geodataframe=True)"
   ]
  },
  {
   "cell_type": "markdown",
   "metadata": {},
   "source": [
    "### **4.** Scattter plots\n",
    "There is a second optional argument to set the minimum Spearman coefficient from which the scatterplots should be plotted."
   ]
  },
  {
   "cell_type": "code",
   "execution_count": null,
   "metadata": {},
   "outputs": [],
   "source": [
    "hypsometric(rivers_budget, min_spearman=None, min_obs=10, show_p_value=True)"
   ]
  },
  {
   "cell_type": "code",
   "execution_count": null,
   "metadata": {},
   "outputs": [],
   "source": [
    "river_shape8 = call_file()"
   ]
  },
  {
   "cell_type": "code",
   "execution_count": null,
   "metadata": {},
   "outputs": [],
   "source": [
    "river_shape4 = call_file()"
   ]
  },
  {
   "cell_type": "code",
   "execution_count": null,
   "metadata": {},
   "outputs": [],
   "source": [
    "# admits up to 3 arguments (Shapefiles)\n",
    "profiles(river_shp)"
   ]
  },
  {
   "cell_type": "markdown",
   "metadata": {},
   "source": [
    "### **4.** CDF of river width variability"
   ]
  },
  {
   "cell_type": "code",
   "execution_count": null,
   "metadata": {},
   "outputs": [],
   "source": [
    "# Function to plot the CDF of the Coefficient of Variation of river widths for each node\n",
    "width_CV_cdf(river_shp, node_col='node_id', width_col='width', title='CDF of River Width Variability in Atrato River')"
   ]
  },
  {
   "cell_type": "code",
   "execution_count": null,
   "metadata": {},
   "outputs": [],
   "source": [
    "profile_cv(river_shp)"
   ]
  },
  {
   "cell_type": "code",
   "execution_count": null,
   "metadata": {},
   "outputs": [],
   "source": [
    "# Calculate the Coefficient of Variation (CV) for width and wse\n",
    "scatter_cv_width_wse_with_spearman(river_shp)"
   ]
  },
  {
   "cell_type": "code",
   "execution_count": null,
   "metadata": {},
   "outputs": [],
   "source": [
    "profile_cv_w_W(river_shp)"
   ]
  },
  {
   "cell_type": "code",
   "execution_count": null,
   "metadata": {},
   "outputs": [],
   "source": [
    "plot_w_variability_cdfs(river_shp, node_col='node_id', width_col='width', cv_threshold=1.0, min_observations=10)"
   ]
  }
 ],
 "metadata": {
  "kernelspec": {
   "display_name": "hypsometry",
   "language": "python",
   "name": "python3"
  },
  "language_info": {
   "codemirror_mode": {
    "name": "ipython",
    "version": 3
   },
   "file_extension": ".py",
   "mimetype": "text/x-python",
   "name": "python",
   "nbconvert_exporter": "python",
   "pygments_lexer": "ipython3",
   "version": "3.12.5"
  }
 },
 "nbformat": 4,
 "nbformat_minor": 2
}
