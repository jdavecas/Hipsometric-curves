{
 "cells": [
  {
   "cell_type": "code",
   "execution_count": 1,
   "metadata": {},
   "outputs": [],
   "source": [
    "import pandas as pd\n",
    "import os\n",
    "import matplotlib.pyplot as plt"
   ]
  },
  {
   "cell_type": "code",
   "execution_count": null,
   "metadata": {},
   "outputs": [],
   "source": [
    "os.chdir(\"..\")\n",
    "os.getcwd()"
   ]
  },
  {
   "cell_type": "code",
   "execution_count": null,
   "metadata": {},
   "outputs": [],
   "source": [
    "Atr_val = pd.read_csv('./Dissertation/3_output/Atrato/Validation/Atrato_validation.csv')\n",
    "Atr_val"
   ]
  },
  {
   "cell_type": "code",
   "execution_count": null,
   "metadata": {},
   "outputs": [],
   "source": [
    "# Assigning color based on the method used to calculate the lowest point in the Atrato river bed\n",
    "color_map = {'L':'royalblue', 'PW':'gold', 'LPW':'tomato'}\n",
    "Atr_val['Color'] = Atr_val['Regression type'].map(color_map)\n",
    "# Scatter plot\n",
    "plt.figure(figsize=(10, 6))\n",
    "plt.scatter(Atr_val['Distance to the outlet'], Atr_val['Bathymetry'], color='forestgreen', label='Bathymetry', marker='D', s=30, alpha=0.6)\n",
    "for Regression in Atr_val['Regression type'].unique():\n",
    "    subset  =Atr_val[Atr_val['Regression type'] == Regression]\n",
    "    plt.scatter(subset['Distance to the outlet'], subset['SWOT'],\n",
    "                label=f'SWOT ({Regression})', \n",
    "                color=color_map[Regression], \n",
    "                marker='^',s=30, alpha=0.7)\n",
    "\n",
    "plt.gca().invert_xaxis()\n",
    "\n",
    "# Adding labels\n",
    "plt.xlabel('Distance to the outlet (km)')\n",
    "plt.ylabel('WSE (m)')\n",
    "plt.title('Atrato River Validation')\n",
    "plt.legend(title='', loc = 'upper right')\n",
    "plt.grid(True)\n",
    "plt.show()"
   ]
  }
 ],
 "metadata": {
  "kernelspec": {
   "display_name": "hypsometry",
   "language": "python",
   "name": "python3"
  },
  "language_info": {
   "codemirror_mode": {
    "name": "ipython",
    "version": 3
   },
   "file_extension": ".py",
   "mimetype": "text/x-python",
   "name": "python",
   "nbconvert_exporter": "python",
   "pygments_lexer": "ipython3",
   "version": "3.12.2"
  }
 },
 "nbformat": 4,
 "nbformat_minor": 2
}
