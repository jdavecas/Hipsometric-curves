{
 "cells": [
  {
   "cell_type": "markdown",
   "metadata": {},
   "source": [
    "### **DATA FILTERING**\n",
    "by J. Daniel Velez\n",
    "\n",
    "The code is intended to filter each river's dictionary. If at least one of the following conditions\n",
    "is met, the observations or attributes at the equivalent position where the condition was met are removed:\n",
    "\n",
    "* 'width' < 99 or is None\n",
    "* 'wse' values are None or negative\n",
    "* 'node_reach_q_b' > 8 bits\n",
    "* 'dark_frac' > 0.30\n",
    "* Less than 3 observations per node or reach\n",
    "\n",
    "Finally, the code checks for outliers within each node or reach only if width-wse pair has more than 20 observations. Outliers here are defined as the values that are more than 2 standard deviations from the mean.\n",
    "\n",
    "The filtered dictionary is exported\n"
   ]
  },
  {
   "cell_type": "code",
   "execution_count": 1,
   "metadata": {},
   "outputs": [],
   "source": [
    "from f_filter_process import*\n",
    "from f_data_arrange import export_to_json\n",
    "from f_data_arrange import dict_to_shapefile"
   ]
  },
  {
   "cell_type": "code",
   "execution_count": 2,
   "metadata": {},
   "outputs": [
    {
     "name": "stderr",
     "output_type": "stream",
     "text": [
      "2024-11-01 11:11:01.792 python[11471:4342265] +[IMKClient subclass]: chose IMKClient_Modern\n",
      "2024-11-01 11:11:02.246 python[11471:4342265] The class 'NSOpenPanel' overrides the method identifier.  This method is implemented by class 'NSWindow'\n"
     ]
    }
   ],
   "source": [
    "# Call the dictionary to filter the data. The call_file function has no arguments.\n",
    "river_dict = call_file()"
   ]
  },
  {
   "cell_type": "code",
   "execution_count": 3,
   "metadata": {},
   "outputs": [
    {
     "name": "stdout",
     "output_type": "stream",
     "text": [
      "1458 out of 2974 outer keys were deleted which is 49.02%\n"
     ]
    }
   ],
   "source": [
    "# Call the valid_pairs function to filter the data. The valid_pairs function has two arguments: the dictionary and the reach_node.\n",
    "# Here, the reach_node is 'Reach'. But if the intention is to process data at node level then the reach_node should be 'Node'.\n",
    "reach_node = 'Node'\n",
    "dict, balance = valid_pairs(river_dict,reach_node, 8, 0.30)"
   ]
  },
  {
   "cell_type": "code",
   "execution_count": 4,
   "metadata": {},
   "outputs": [],
   "source": [
    "# It is convenient to make a copy of the dictionary before processing it.\n",
    "dict_to_process = dict.copy()"
   ]
  },
  {
   "cell_type": "code",
   "execution_count": 5,
   "metadata": {},
   "outputs": [
    {
     "name": "stdout",
     "output_type": "stream",
     "text": [
      "0 out of 1516 outer keys were deleted.\n",
      "Total list elements removed: 1035\n"
     ]
    }
   ],
   "source": [
    "# Call the outliers function to filter the data. The outliers function has one argument: the dictionary.\n",
    "dict_to_process_3, out_sum = outliers(dict_to_process)"
   ]
  },
  {
   "cell_type": "code",
   "execution_count": 6,
   "metadata": {},
   "outputs": [
    {
     "name": "stdout",
     "output_type": "stream",
     "text": [
      "Number of nodes removed: 3\n"
     ]
    }
   ],
   "source": [
    "dict_to_process_4 = filter_by_cv_threshold(dict_to_process_3, cv_threshold=0.8)"
   ]
  },
  {
   "cell_type": "code",
   "execution_count": 7,
   "metadata": {},
   "outputs": [
    {
     "name": "stderr",
     "output_type": "stream",
     "text": [
      "2024-11-01 11:11:25.142 python[11471:4342265] The class 'NSSavePanel' overrides the method identifier.  This method is implemented by class 'NSWindow'\n",
      "2024-11-01 11:11:25.327 python[11471:4342265] +[IMKInputSession subclass]: chose IMKInputSession_Modern\n"
     ]
    }
   ],
   "source": [
    "# Export the new dictionary to a json file. Arguments: the dictionary to export.\n",
    "export_to_json(dict_to_process_4)"
   ]
  },
  {
   "cell_type": "code",
   "execution_count": 8,
   "metadata": {},
   "outputs": [
    {
     "name": "stdout",
     "output_type": "stream",
     "text": [
      "Shapefile successfully saved to /Users/josele/Library/CloudStorage/GoogleDrive-ejdvc757@gmail.com/Other computers/My MacBook Pro/PhD/Dissertation/2_intermediate/out/Basins/No_Norm/dargk_fr_030/8_bits_filter/Po/Shps/Po_river_fN_8030_10obsCV.shp\n"
     ]
    }
   ],
   "source": [
    "# Export the new dictionary to a shapefile. Arguments: the dictionary to export and the level you are working on, Reach or Node.\n",
    "dict_to_shapefile(dict_to_process_4,reach_node)"
   ]
  },
  {
   "cell_type": "code",
   "execution_count": 9,
   "metadata": {},
   "outputs": [
    {
     "data": {
      "text/html": [
       "<div>\n",
       "<style scoped>\n",
       "    .dataframe tbody tr th:only-of-type {\n",
       "        vertical-align: middle;\n",
       "    }\n",
       "\n",
       "    .dataframe tbody tr th {\n",
       "        vertical-align: top;\n",
       "    }\n",
       "\n",
       "    .dataframe thead th {\n",
       "        text-align: right;\n",
       "    }\n",
       "</style>\n",
       "<table border=\"1\" class=\"dataframe\">\n",
       "  <thead>\n",
       "    <tr style=\"text-align: right;\">\n",
       "      <th></th>\n",
       "      <th>Remaining</th>\n",
       "      <th>Deleted</th>\n",
       "      <th>Remaining %</th>\n",
       "      <th>Deleted %</th>\n",
       "    </tr>\n",
       "  </thead>\n",
       "  <tbody>\n",
       "    <tr>\n",
       "      <th>Po Nodes</th>\n",
       "      <td>1516</td>\n",
       "      <td>1458</td>\n",
       "      <td>50.975118</td>\n",
       "      <td>49.024882</td>\n",
       "    </tr>\n",
       "  </tbody>\n",
       "</table>\n",
       "</div>"
      ],
      "text/plain": [
       "         Remaining Deleted Remaining %  Deleted %\n",
       "Po Nodes      1516    1458   50.975118  49.024882"
      ]
     },
     "execution_count": 9,
     "metadata": {},
     "output_type": "execute_result"
    }
   ],
   "source": [
    "# Data budget\n",
    "ind = \"Po Nodes\"\n",
    "budget = data(balance, ind)\n",
    "budget"
   ]
  },
  {
   "cell_type": "code",
   "execution_count": 10,
   "metadata": {},
   "outputs": [
    {
     "name": "stdout",
     "output_type": "stream",
     "text": [
      "DataFrame has been exported to /Users/josele/Library/CloudStorage/GoogleDrive-ejdvc757@gmail.com/Other computers/My MacBook Pro/PhD/Dissertation/2_intermediate/out/Basins/No_Norm/dargk_fr_030/8_bits_filter/Po/csv/Po_river_fN_8030_10obsCV.csv\n"
     ]
    }
   ],
   "source": [
    "export_dataframe(budget,is_geodataframe=False)"
   ]
  }
 ],
 "metadata": {
  "kernelspec": {
   "display_name": "hypsometry",
   "language": "python",
   "name": "python3"
  },
  "language_info": {
   "codemirror_mode": {
    "name": "ipython",
    "version": 3
   },
   "file_extension": ".py",
   "mimetype": "text/x-python",
   "name": "python",
   "nbconvert_exporter": "python",
   "pygments_lexer": "ipython3",
   "version": "3.12.5"
  }
 },
 "nbformat": 4,
 "nbformat_minor": 2
}
