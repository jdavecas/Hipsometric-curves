{
 "cells": [
  {
   "cell_type": "markdown",
   "metadata": {},
   "source": [
    "### **DATA FILTERING**\n",
    "by J. Daniel Velez\n",
    "\n",
    "The code is intended to filter each river's dictionary. If at least one of the following conditions\n",
    "is met, the observations or attributes at the equivalent position where the condition was met are removed:\n",
    "\n",
    "* 'width' < 99 or is None\n",
    "* 'wse' values are None or negative\n",
    "* 'node_reach_q_b' >= 16 (second filter set it to 8)\n",
    "* 'dark_frac' > 0.35\n",
    "* Less than 3 observations per node or reach\n",
    "\n",
    "Finally, the code checks for outliers within each node or reach only if width-wse pair has more than 20 observations. Outliers here are defined as the values that are more than 2 standard deviations from the mean.\n",
    "\n",
    "The filtered dictionary is exported\n"
   ]
  },
  {
   "cell_type": "code",
   "execution_count": 1,
   "metadata": {},
   "outputs": [],
   "source": [
    "from f_filter_process import*\n",
    "from f_data_arrange import export_to_json\n",
    "from f_data_arrange import dict_to_shapefile"
   ]
  },
  {
   "cell_type": "code",
   "execution_count": 2,
   "metadata": {},
   "outputs": [
    {
     "name": "stderr",
     "output_type": "stream",
     "text": [
      "2024-10-08 09:59:45.667 python[1607:13112] +[IMKClient subclass]: chose IMKClient_Modern\n",
      "2024-10-08 09:59:49.098 python[1607:13112] The class 'NSOpenPanel' overrides the method identifier.  This method is implemented by class 'NSWindow'\n"
     ]
    },
    {
     "name": "stdout",
     "output_type": "stream",
     "text": [
      "{}\n"
     ]
    }
   ],
   "source": [
    "# Call the dictionary to filter the data. The call_file function has no arguments.\n",
    "river_dict = call_file()\n",
    "print(river_dict)"
   ]
  },
  {
   "cell_type": "code",
   "execution_count": null,
   "metadata": {},
   "outputs": [],
   "source": [
    "# Call the valid_pairs function to filter the data. The valid_pairs function has two arguments: the dictionary and the reach_node.\n",
    "# Here, the reach_node is 'Reach'. But if the intention is to process data at node level then the reach_node should be 'Node'.\n",
    "reach_node = 'Node'\n",
    "dict, balance = valid_pairs(river_dict,reach_node,16)"
   ]
  },
  {
   "cell_type": "code",
   "execution_count": null,
   "metadata": {},
   "outputs": [],
   "source": [
    "print(balance)"
   ]
  },
  {
   "cell_type": "code",
   "execution_count": 5,
   "metadata": {},
   "outputs": [],
   "source": [
    "# It is convenient to make a copy of the dictionary before processing it.\n",
    "dict_to_process = dict.copy()"
   ]
  },
  {
   "cell_type": "code",
   "execution_count": null,
   "metadata": {},
   "outputs": [],
   "source": [
    "# Call the outliers function to filter the data. The outliers function has one argument: the dictionary.\n",
    "dict_to_process = outliers(dict_to_process)"
   ]
  },
  {
   "cell_type": "code",
   "execution_count": 28,
   "metadata": {},
   "outputs": [],
   "source": [
    "# Export the new dictionary to a json file. Arguments: the dictionary to export.\n",
    "export_to_json(dict_to_process)"
   ]
  },
  {
   "cell_type": "code",
   "execution_count": null,
   "metadata": {},
   "outputs": [],
   "source": [
    "# Export the new dictionary to a shapefile. Arguments: the dictionary to export and the level you are working on, Reach or Node.\n",
    "dict_to_shapefile(dict_to_process,reach_node)"
   ]
  },
  {
   "cell_type": "code",
   "execution_count": null,
   "metadata": {},
   "outputs": [],
   "source": [
    "# Data budget\n",
    "ind = \"Tanana Nodes\"\n",
    "budget = data(balance, ind)\n",
    "budget"
   ]
  },
  {
   "cell_type": "code",
   "execution_count": null,
   "metadata": {},
   "outputs": [],
   "source": [
    "export_dataframe(budget,is_geodataframe=False)"
   ]
  }
 ],
 "metadata": {
  "kernelspec": {
   "display_name": "hypsometry",
   "language": "python",
   "name": "python3"
  },
  "language_info": {
   "codemirror_mode": {
    "name": "ipython",
    "version": 3
   },
   "file_extension": ".py",
   "mimetype": "text/x-python",
   "name": "python",
   "nbconvert_exporter": "python",
   "pygments_lexer": "ipython3",
   "version": "3.12.5"
  }
 },
 "nbformat": 4,
 "nbformat_minor": 2
}
